{
 "cells": [
  {
   "cell_type": "code",
   "execution_count": 4,
   "id": "9a2a1aee-61f5-4a9f-8bf9-c8f4dcee4ade",
   "metadata": {},
   "outputs": [
    {
     "name": "stdout",
     "output_type": "stream",
     "text": [
      "0.9035211983782679\n"
     ]
    }
   ],
   "source": [
    "from math import sqrt\n",
    "a1=[1,2,3,4,5];\n",
    "a2=[1,2,3,10,5];\n",
    "sum=0\n",
    "suma1=0\n",
    "sumb1=0\n",
    "\n",
    "for i,j in zip(a1,a2):\n",
    "    suma1 += i*i\n",
    "    sumb1 += j*j\n",
    "    sum += i*j\n",
    "    \n",
    "cosinesim = sum / ((sqrt(suma1)) * (sqrt(sumb1)))\n",
    "print(cosinesim)"
   ]
  },
  {
   "cell_type": "code",
   "execution_count": 25,
   "id": "218fbefd-6e3a-4e6e-9b57-bb44a8c389dc",
   "metadata": {},
   "outputs": [
    {
     "name": "stdout",
     "output_type": "stream",
     "text": [
      "0.9341987329938275\n"
     ]
    }
   ],
   "source": [
    "import numpy as np\n",
    "a1D = np.array([1, 2, 3, 4])\n",
    "a2D = np.array([1, 2, 1, 4])\n",
    "sum=0\n",
    "suma1=0\n",
    "sumb1=0\n",
    "\n",
    "for i,j in zip(a1D,a2D):\n",
    "    suma1 += i*i\n",
    "    sumb1 += j*j\n",
    "    sum += i*j\n",
    "    \n",
    "cosinesim = sum / ((sqrt(suma1)) * (sqrt(sumb1)))\n",
    "print(cosinesim)"
   ]
  },
  {
   "cell_type": "code",
   "execution_count": null,
   "id": "5a97d9b4-e363-4027-a2f3-e05fff4b6dd8",
   "metadata": {},
   "outputs": [],
   "source": []
  },
  {
   "cell_type": "code",
   "execution_count": 1,
   "id": "3058b83f-a09a-4980-8d17-02b423b069ac",
   "metadata": {},
   "outputs": [
    {
     "data": {
      "text/plain": [
       "0.417"
      ]
     },
     "execution_count": 1,
     "metadata": {},
     "output_type": "execute_result"
    }
   ],
   "source": [
    "import numpy as np\n",
    "A=np.array([1,5,3,4,2,0,0,1])\n",
    "\n",
    "B=np.array([0,0,1,3,5,6,0,2])\n",
    "\n",
    "numerator=np.dot(A,B)\n",
    "\n",
    "denom=np.sqrt(sum(np.square(A)))*np.sqrt(sum(np.square(B)))\n",
    "\n",
    "# Similarity:\n",
    "round(numerator/denom,3)"
   ]
  },
  {
   "cell_type": "code",
   "execution_count": 15,
   "id": "dc5a1a7f-45e7-4d86-a98e-146caad8e592",
   "metadata": {},
   "outputs": [
    {
     "data": {
      "text/plain": [
       "0.812"
      ]
     },
     "execution_count": 15,
     "metadata": {},
     "output_type": "execute_result"
    }
   ],
   "source": [
    "import numpy as np\n",
    "A=np.array([1,5,3,4,2,0,0,1])\n",
    "\n",
    "B=np.array([1,5,3,4,2,0,0,7])\n",
    "\n",
    "numerator=np.dot(A,B)\n",
    "\n",
    "denom=np.sqrt(sum(np.square(A)))*np.sqrt(sum(np.square(B)))\n",
    "\n",
    "# Similarity:\n",
    "round(numerator/denom,3)"
   ]
  },
  {
   "cell_type": "code",
   "execution_count": 12,
   "id": "3e65b909-960c-429a-aa46-a453615a33bb",
   "metadata": {},
   "outputs": [
    {
     "data": {
      "text/plain": [
       "1.0"
      ]
     },
     "execution_count": 12,
     "metadata": {},
     "output_type": "execute_result"
    }
   ],
   "source": [
    "import numpy as np\n",
    "#range(100000)\n",
    "#np.array(range(100000))\n",
    "A=np.array(range(1000))\n",
    "\n",
    "B=np.array(range(1000))\n",
    "\n",
    "numerator=np.dot(A,B)\n",
    "\n",
    "denom=np.sqrt(sum(np.square(A)))*np.sqrt(sum(np.square(B)))\n",
    "\n",
    "# Similarity:\n",
    "round(numerator/denom,3)"
   ]
  },
  {
   "cell_type": "code",
   "execution_count": null,
   "id": "161e9d27-6052-4571-96ad-6ef93c0aa447",
   "metadata": {},
   "outputs": [],
   "source": []
  },
  {
   "cell_type": "code",
   "execution_count": null,
   "id": "65aa49e3-34ff-49b2-bf74-5f45b6ab2094",
   "metadata": {},
   "outputs": [],
   "source": []
  }
 ],
 "metadata": {
  "kernelspec": {
   "display_name": "Python 3",
   "language": "python",
   "name": "python3"
  },
  "language_info": {
   "codemirror_mode": {
    "name": "ipython",
    "version": 3
   },
   "file_extension": ".py",
   "mimetype": "text/x-python",
   "name": "python",
   "nbconvert_exporter": "python",
   "pygments_lexer": "ipython3",
   "version": "3.8.8"
  }
 },
 "nbformat": 4,
 "nbformat_minor": 5
}
